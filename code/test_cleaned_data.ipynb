{
 "cells": [
  {
   "cell_type": "code",
   "execution_count": 1,
   "metadata": {},
   "outputs": [],
   "source": [
    "import pandas as pd"
   ]
  },
  {
   "cell_type": "code",
   "execution_count": 17,
   "metadata": {},
   "outputs": [],
   "source": [
    "df = pd.read_csv('../datasets/cleaned_fix.csv')"
   ]
  },
  {
   "cell_type": "code",
   "execution_count": 18,
   "metadata": {},
   "outputs": [
    {
     "name": "stdout",
     "output_type": "stream",
     "text": [
      "<class 'pandas.core.frame.DataFrame'>\n",
      "RangeIndex: 12316 entries, 0 to 12315\n",
      "Data columns (total 22 columns):\n",
      " #   Column                       Non-Null Count  Dtype \n",
      "---  ------                       --------------  ----- \n",
      " 0   Time                         12316 non-null  object\n",
      " 1   Age_band_of_driver           12316 non-null  object\n",
      " 2   Sex_of_driver                12316 non-null  object\n",
      " 3   Vehicle_driver_relation      12316 non-null  object\n",
      " 4   Driving_experience           12316 non-null  object\n",
      " 5   Type_of_vehicle              12316 non-null  object\n",
      " 6   Owner_of_vehicle             12316 non-null  object\n",
      " 7   Area_accident_occured        12316 non-null  object\n",
      " 8   Lanes_or_Medians             12316 non-null  object\n",
      " 9   Road_allignment              12316 non-null  object\n",
      " 10  Types_of_Junction            12316 non-null  object\n",
      " 11  Road_surface_type            12316 non-null  object\n",
      " 12  Road_surface_conditions      12316 non-null  object\n",
      " 13  Light_conditions             12316 non-null  object\n",
      " 14  Weather_conditions           12316 non-null  object\n",
      " 15  Type_of_collision            12316 non-null  object\n",
      " 16  Number_of_vehicles_involved  12316 non-null  int64 \n",
      " 17  Number_of_casualties         12316 non-null  int64 \n",
      " 18  Vehicle_movement             12316 non-null  object\n",
      " 19  Casualty_severity            12316 non-null  object\n",
      " 20  Cause_of_accident            12316 non-null  object\n",
      " 21  Accident_severity            12316 non-null  object\n",
      "dtypes: int64(2), object(20)\n",
      "memory usage: 2.1+ MB\n"
     ]
    }
   ],
   "source": [
    "df.info()"
   ]
  },
  {
   "cell_type": "code",
   "execution_count": 19,
   "metadata": {},
   "outputs": [
    {
     "data": {
      "text/plain": [
       "Road_surface_conditions\n",
       "Dry                     9340\n",
       "Wet or damp             2904\n",
       "Snow                      70\n",
       "Flood over 3cm. deep       2\n",
       "Name: count, dtype: int64"
      ]
     },
     "execution_count": 19,
     "metadata": {},
     "output_type": "execute_result"
    }
   ],
   "source": [
    "df['Road_surface_conditions'].value_counts()"
   ]
  },
  {
   "cell_type": "code",
   "execution_count": 20,
   "metadata": {},
   "outputs": [
    {
     "data": {
      "text/plain": [
       "Type_of_vehicle\n",
       "Private Vehicle       5019\n",
       "Commercial Vehicle    3921\n",
       "Public Transport      1941\n",
       "Other                 1208\n",
       "Special Vehicle        130\n",
       "Non-Motorized           97\n",
       "Name: count, dtype: int64"
      ]
     },
     "execution_count": 20,
     "metadata": {},
     "output_type": "execute_result"
    }
   ],
   "source": [
    "df['Type_of_vehicle'].value_counts()"
   ]
  },
  {
   "cell_type": "code",
   "execution_count": 21,
   "metadata": {},
   "outputs": [
    {
     "data": {
      "text/plain": [
       "Area_accident_occured\n",
       "Other                              4058\n",
       "Office areas                       3451\n",
       "Residential areas                  2060\n",
       " Church areas                      1060\n",
       " Industrial areas                   456\n",
       "School areas                        415\n",
       "  Recreational areas                327\n",
       " Outside rural areas                218\n",
       " Hospital areas                     121\n",
       "  Market areas                       63\n",
       "Rural village areas                  44\n",
       "Unknown                              22\n",
       "Rural village areasOffice areas      20\n",
       "Recreational areas                    1\n",
       "Name: count, dtype: int64"
      ]
     },
     "execution_count": 21,
     "metadata": {},
     "output_type": "execute_result"
    }
   ],
   "source": [
    "df['Area_accident_occured'].value_counts()"
   ]
  },
  {
   "cell_type": "code",
   "execution_count": 22,
   "metadata": {},
   "outputs": [
    {
     "data": {
      "text/plain": [
       "Road_allignment\n",
       "Tangent road with flat terrain                   10601\n",
       "Tangent road with mild grade and flat terrain      501\n",
       "Steep grade downward with mountainous terrain      429\n",
       "Tangent road with mountainous terrain and          396\n",
       "Gentle horizontal curve                            163\n",
       "Escarpments                                        113\n",
       "Sharp reverse curve                                 57\n",
       "Tangent road with rolling terrain                   37\n",
       "Steep grade upward with mountainous terrain         19\n",
       "Name: count, dtype: int64"
      ]
     },
     "execution_count": 22,
     "metadata": {},
     "output_type": "execute_result"
    }
   ],
   "source": [
    "df['Road_allignment'].value_counts()"
   ]
  }
 ],
 "metadata": {
  "kernelspec": {
   "display_name": "base",
   "language": "python",
   "name": "python3"
  },
  "language_info": {
   "codemirror_mode": {
    "name": "ipython",
    "version": 3
   },
   "file_extension": ".py",
   "mimetype": "text/x-python",
   "name": "python",
   "nbconvert_exporter": "python",
   "pygments_lexer": "ipython3",
   "version": "3.12.7"
  }
 },
 "nbformat": 4,
 "nbformat_minor": 2
}
