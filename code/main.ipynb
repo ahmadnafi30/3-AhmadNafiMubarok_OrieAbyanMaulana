{
 "cells": [
  {
   "cell_type": "markdown",
   "metadata": {},
   "source": [
    "# Library "
   ]
  },
  {
   "cell_type": "markdown",
   "metadata": {},
   "source": [
    "ini adalah section yang berisi library yang diguunakan untuk preprocessing, analysis, buildmodel"
   ]
  },
  {
   "cell_type": "code",
   "execution_count": 3,
   "metadata": {},
   "outputs": [],
   "source": [
    "import pandas as pd\n",
    "import numpy as np\n",
    "\n",
    "import matplotlib.pyplot as plt\n",
    "import seaborn as sns\n"
   ]
  },
  {
   "cell_type": "markdown",
   "metadata": {},
   "source": [
    "# Data Understanding"
   ]
  },
  {
   "cell_type": "code",
   "execution_count": 4,
   "metadata": {},
   "outputs": [],
   "source": [
    "df_train = pd.read_csv('../datasets/Road Traffic Accidents/RTA Dataset.csv')"
   ]
  },
  {
   "cell_type": "code",
   "execution_count": 5,
   "metadata": {},
   "outputs": [
    {
     "data": {
      "text/plain": [
       "np.int64(0)"
      ]
     },
     "execution_count": 5,
     "metadata": {},
     "output_type": "execute_result"
    }
   ],
   "source": [
    "df_train.duplicated().sum()"
   ]
  },
  {
   "cell_type": "code",
   "execution_count": 6,
   "metadata": {},
   "outputs": [
    {
     "data": {
      "text/plain": [
       "np.int64(20057)"
      ]
     },
     "execution_count": 6,
     "metadata": {},
     "output_type": "execute_result"
    }
   ],
   "source": [
    "df_train.isna().sum().sum()"
   ]
  },
  {
   "cell_type": "markdown",
   "metadata": {},
   "source": [
    "ada sebanyak 20057 missing values cikkk banyak kali lah "
   ]
  },
  {
   "cell_type": "code",
   "execution_count": 7,
   "metadata": {},
   "outputs": [
    {
     "data": {
      "text/html": [
       "<div>\n",
       "<style scoped>\n",
       "    .dataframe tbody tr th:only-of-type {\n",
       "        vertical-align: middle;\n",
       "    }\n",
       "\n",
       "    .dataframe tbody tr th {\n",
       "        vertical-align: top;\n",
       "    }\n",
       "\n",
       "    .dataframe thead th {\n",
       "        text-align: right;\n",
       "    }\n",
       "</style>\n",
       "<table border=\"1\" class=\"dataframe\">\n",
       "  <thead>\n",
       "    <tr style=\"text-align: right;\">\n",
       "      <th></th>\n",
       "      <th>Time</th>\n",
       "      <th>Day_of_week</th>\n",
       "      <th>Age_band_of_driver</th>\n",
       "      <th>Sex_of_driver</th>\n",
       "      <th>Educational_level</th>\n",
       "      <th>Vehicle_driver_relation</th>\n",
       "      <th>Driving_experience</th>\n",
       "      <th>Type_of_vehicle</th>\n",
       "      <th>Owner_of_vehicle</th>\n",
       "      <th>Service_year_of_vehicle</th>\n",
       "      <th>...</th>\n",
       "      <th>Vehicle_movement</th>\n",
       "      <th>Casualty_class</th>\n",
       "      <th>Sex_of_casualty</th>\n",
       "      <th>Age_band_of_casualty</th>\n",
       "      <th>Casualty_severity</th>\n",
       "      <th>Work_of_casuality</th>\n",
       "      <th>Fitness_of_casuality</th>\n",
       "      <th>Pedestrian_movement</th>\n",
       "      <th>Cause_of_accident</th>\n",
       "      <th>Accident_severity</th>\n",
       "    </tr>\n",
       "  </thead>\n",
       "  <tbody>\n",
       "    <tr>\n",
       "      <th>12311</th>\n",
       "      <td>16:15:00</td>\n",
       "      <td>Wednesday</td>\n",
       "      <td>31-50</td>\n",
       "      <td>Male</td>\n",
       "      <td>NaN</td>\n",
       "      <td>Employee</td>\n",
       "      <td>2-5yr</td>\n",
       "      <td>Lorry (11?40Q)</td>\n",
       "      <td>Owner</td>\n",
       "      <td>NaN</td>\n",
       "      <td>...</td>\n",
       "      <td>Going straight</td>\n",
       "      <td>na</td>\n",
       "      <td>na</td>\n",
       "      <td>na</td>\n",
       "      <td>na</td>\n",
       "      <td>Driver</td>\n",
       "      <td>Normal</td>\n",
       "      <td>Not a Pedestrian</td>\n",
       "      <td>No distancing</td>\n",
       "      <td>Slight Injury</td>\n",
       "    </tr>\n",
       "    <tr>\n",
       "      <th>12312</th>\n",
       "      <td>18:00:00</td>\n",
       "      <td>Sunday</td>\n",
       "      <td>Unknown</td>\n",
       "      <td>Male</td>\n",
       "      <td>Elementary school</td>\n",
       "      <td>Employee</td>\n",
       "      <td>5-10yr</td>\n",
       "      <td>Automobile</td>\n",
       "      <td>Owner</td>\n",
       "      <td>NaN</td>\n",
       "      <td>...</td>\n",
       "      <td>Other</td>\n",
       "      <td>na</td>\n",
       "      <td>na</td>\n",
       "      <td>na</td>\n",
       "      <td>na</td>\n",
       "      <td>Driver</td>\n",
       "      <td>Normal</td>\n",
       "      <td>Not a Pedestrian</td>\n",
       "      <td>No distancing</td>\n",
       "      <td>Slight Injury</td>\n",
       "    </tr>\n",
       "    <tr>\n",
       "      <th>12313</th>\n",
       "      <td>13:55:00</td>\n",
       "      <td>Sunday</td>\n",
       "      <td>Over 51</td>\n",
       "      <td>Male</td>\n",
       "      <td>Junior high school</td>\n",
       "      <td>Employee</td>\n",
       "      <td>5-10yr</td>\n",
       "      <td>Bajaj</td>\n",
       "      <td>Owner</td>\n",
       "      <td>2-5yrs</td>\n",
       "      <td>...</td>\n",
       "      <td>Other</td>\n",
       "      <td>Driver or rider</td>\n",
       "      <td>Male</td>\n",
       "      <td>31-50</td>\n",
       "      <td>3</td>\n",
       "      <td>Driver</td>\n",
       "      <td>Normal</td>\n",
       "      <td>Not a Pedestrian</td>\n",
       "      <td>Changing lane to the right</td>\n",
       "      <td>Serious Injury</td>\n",
       "    </tr>\n",
       "    <tr>\n",
       "      <th>12314</th>\n",
       "      <td>13:55:00</td>\n",
       "      <td>Sunday</td>\n",
       "      <td>18-30</td>\n",
       "      <td>Female</td>\n",
       "      <td>Junior high school</td>\n",
       "      <td>Employee</td>\n",
       "      <td>Above 10yr</td>\n",
       "      <td>Lorry (41?100Q)</td>\n",
       "      <td>Owner</td>\n",
       "      <td>2-5yrs</td>\n",
       "      <td>...</td>\n",
       "      <td>Other</td>\n",
       "      <td>na</td>\n",
       "      <td>na</td>\n",
       "      <td>na</td>\n",
       "      <td>na</td>\n",
       "      <td>Driver</td>\n",
       "      <td>Normal</td>\n",
       "      <td>Not a Pedestrian</td>\n",
       "      <td>Driving under the influence of drugs</td>\n",
       "      <td>Slight Injury</td>\n",
       "    </tr>\n",
       "    <tr>\n",
       "      <th>12315</th>\n",
       "      <td>13:55:00</td>\n",
       "      <td>Sunday</td>\n",
       "      <td>18-30</td>\n",
       "      <td>Male</td>\n",
       "      <td>Junior high school</td>\n",
       "      <td>Employee</td>\n",
       "      <td>5-10yr</td>\n",
       "      <td>Other</td>\n",
       "      <td>Owner</td>\n",
       "      <td>2-5yrs</td>\n",
       "      <td>...</td>\n",
       "      <td>Stopping</td>\n",
       "      <td>Pedestrian</td>\n",
       "      <td>Female</td>\n",
       "      <td>5</td>\n",
       "      <td>3</td>\n",
       "      <td>Driver</td>\n",
       "      <td>Normal</td>\n",
       "      <td>Crossing from nearside - masked by parked or s...</td>\n",
       "      <td>Changing lane to the right</td>\n",
       "      <td>Slight Injury</td>\n",
       "    </tr>\n",
       "  </tbody>\n",
       "</table>\n",
       "<p>5 rows × 32 columns</p>\n",
       "</div>"
      ],
      "text/plain": [
       "           Time Day_of_week Age_band_of_driver Sex_of_driver  \\\n",
       "12311  16:15:00   Wednesday              31-50          Male   \n",
       "12312  18:00:00      Sunday            Unknown          Male   \n",
       "12313  13:55:00      Sunday            Over 51          Male   \n",
       "12314  13:55:00      Sunday              18-30        Female   \n",
       "12315  13:55:00      Sunday              18-30          Male   \n",
       "\n",
       "        Educational_level Vehicle_driver_relation Driving_experience  \\\n",
       "12311                 NaN                Employee              2-5yr   \n",
       "12312   Elementary school                Employee             5-10yr   \n",
       "12313  Junior high school                Employee             5-10yr   \n",
       "12314  Junior high school                Employee         Above 10yr   \n",
       "12315  Junior high school                Employee             5-10yr   \n",
       "\n",
       "       Type_of_vehicle Owner_of_vehicle Service_year_of_vehicle  ...  \\\n",
       "12311   Lorry (11?40Q)            Owner                     NaN  ...   \n",
       "12312       Automobile            Owner                     NaN  ...   \n",
       "12313            Bajaj            Owner                  2-5yrs  ...   \n",
       "12314  Lorry (41?100Q)            Owner                  2-5yrs  ...   \n",
       "12315            Other            Owner                  2-5yrs  ...   \n",
       "\n",
       "      Vehicle_movement   Casualty_class Sex_of_casualty Age_band_of_casualty  \\\n",
       "12311   Going straight               na              na                   na   \n",
       "12312            Other               na              na                   na   \n",
       "12313            Other  Driver or rider            Male                31-50   \n",
       "12314            Other               na              na                   na   \n",
       "12315         Stopping       Pedestrian          Female                    5   \n",
       "\n",
       "      Casualty_severity Work_of_casuality Fitness_of_casuality  \\\n",
       "12311                na            Driver               Normal   \n",
       "12312                na            Driver               Normal   \n",
       "12313                 3            Driver               Normal   \n",
       "12314                na            Driver               Normal   \n",
       "12315                 3            Driver               Normal   \n",
       "\n",
       "                                     Pedestrian_movement  \\\n",
       "12311                                   Not a Pedestrian   \n",
       "12312                                   Not a Pedestrian   \n",
       "12313                                   Not a Pedestrian   \n",
       "12314                                   Not a Pedestrian   \n",
       "12315  Crossing from nearside - masked by parked or s...   \n",
       "\n",
       "                          Cause_of_accident Accident_severity  \n",
       "12311                         No distancing     Slight Injury  \n",
       "12312                         No distancing     Slight Injury  \n",
       "12313            Changing lane to the right    Serious Injury  \n",
       "12314  Driving under the influence of drugs     Slight Injury  \n",
       "12315            Changing lane to the right     Slight Injury  \n",
       "\n",
       "[5 rows x 32 columns]"
      ]
     },
     "execution_count": 7,
     "metadata": {},
     "output_type": "execute_result"
    }
   ],
   "source": [
    "df_train.tail()"
   ]
  },
  {
   "cell_type": "code",
   "execution_count": 8,
   "metadata": {},
   "outputs": [
    {
     "data": {
      "text/plain": [
       "Age_band_of_driver\n",
       "18-30       4271\n",
       "31-50       4087\n",
       "Over 51     1585\n",
       "Unknown     1548\n",
       "Under 18     825\n",
       "Name: count, dtype: int64"
      ]
     },
     "execution_count": 8,
     "metadata": {},
     "output_type": "execute_result"
    }
   ],
   "source": [
    "df_train['Age_band_of_driver'].value_counts()"
   ]
  },
  {
   "cell_type": "markdown",
   "metadata": {},
   "source": [
    "kelompok umur ya ini, hmm diapaim ya enaknya bisa sih buat kek muda, tua, usia lanjut atau lanngsung saja di encoding deh keknya dan unknown itu sebenernya missing values kan ya nanti bisa di imputasi sih"
   ]
  },
  {
   "cell_type": "code",
   "execution_count": 9,
   "metadata": {},
   "outputs": [
    {
     "data": {
      "text/plain": [
       "Driving_experience\n",
       "5-10yr        3363\n",
       "2-5yr         2613\n",
       "Above 10yr    2262\n",
       "1-2yr         1756\n",
       "Below 1yr     1342\n",
       "No Licence     118\n",
       "unknown         33\n",
       "Name: count, dtype: int64"
      ]
     },
     "execution_count": 9,
     "metadata": {},
     "output_type": "execute_result"
    }
   ],
   "source": [
    "df_train['Driving_experience'].value_counts()"
   ]
  },
  {
   "cell_type": "markdown",
   "metadata": {},
   "source": [
    "ini juga unknown cikkkk, imputasi dulu trs encoding"
   ]
  },
  {
   "cell_type": "code",
   "execution_count": 10,
   "metadata": {},
   "outputs": [
    {
     "data": {
      "text/plain": [
       "Cause_of_accident\n",
       "No distancing                           2263\n",
       "Changing lane to the right              1808\n",
       "Changing lane to the left               1473\n",
       "Driving carelessly                      1402\n",
       "No priority to vehicle                  1207\n",
       "Moving Backward                         1137\n",
       "No priority to pedestrian                721\n",
       "Other                                    456\n",
       "Overtaking                               430\n",
       "Driving under the influence of drugs     340\n",
       "Driving to the left                      284\n",
       "Getting off the vehicle improperly       197\n",
       "Driving at high speed                    174\n",
       "Overturning                              149\n",
       "Turnover                                  78\n",
       "Overspeed                                 61\n",
       "Overloading                               59\n",
       "Drunk driving                             27\n",
       "Improper parking                          25\n",
       "Unknown                                   25\n",
       "Name: count, dtype: int64"
      ]
     },
     "execution_count": 10,
     "metadata": {},
     "output_type": "execute_result"
    }
   ],
   "source": [
    "df_train['Cause_of_accident'].value_counts()"
   ]
  },
  {
   "cell_type": "markdown",
   "metadata": {},
   "source": [
    "ini mungkin nantinya bisa dikelompokkin lagi ya kek disatuin biar kategori nya nambah dikit trs imputasi juga"
   ]
  },
  {
   "cell_type": "code",
   "execution_count": 11,
   "metadata": {},
   "outputs": [
    {
     "name": "stdout",
     "output_type": "stream",
     "text": [
      "<class 'pandas.core.frame.DataFrame'>\n",
      "RangeIndex: 12316 entries, 0 to 12315\n",
      "Data columns (total 32 columns):\n",
      " #   Column                       Non-Null Count  Dtype \n",
      "---  ------                       --------------  ----- \n",
      " 0   Time                         12316 non-null  object\n",
      " 1   Day_of_week                  12316 non-null  object\n",
      " 2   Age_band_of_driver           12316 non-null  object\n",
      " 3   Sex_of_driver                12316 non-null  object\n",
      " 4   Educational_level            11575 non-null  object\n",
      " 5   Vehicle_driver_relation      11737 non-null  object\n",
      " 6   Driving_experience           11487 non-null  object\n",
      " 7   Type_of_vehicle              11366 non-null  object\n",
      " 8   Owner_of_vehicle             11834 non-null  object\n",
      " 9   Service_year_of_vehicle      8388 non-null   object\n",
      " 10  Defect_of_vehicle            7889 non-null   object\n",
      " 11  Area_accident_occured        12077 non-null  object\n",
      " 12  Lanes_or_Medians             11931 non-null  object\n",
      " 13  Road_allignment              12174 non-null  object\n",
      " 14  Types_of_Junction            11429 non-null  object\n",
      " 15  Road_surface_type            12144 non-null  object\n",
      " 16  Road_surface_conditions      12316 non-null  object\n",
      " 17  Light_conditions             12316 non-null  object\n",
      " 18  Weather_conditions           12316 non-null  object\n",
      " 19  Type_of_collision            12161 non-null  object\n",
      " 20  Number_of_vehicles_involved  12316 non-null  int64 \n",
      " 21  Number_of_casualties         12316 non-null  int64 \n",
      " 22  Vehicle_movement             12008 non-null  object\n",
      " 23  Casualty_class               12316 non-null  object\n",
      " 24  Sex_of_casualty              12316 non-null  object\n",
      " 25  Age_band_of_casualty         12316 non-null  object\n",
      " 26  Casualty_severity            12316 non-null  object\n",
      " 27  Work_of_casuality            9118 non-null   object\n",
      " 28  Fitness_of_casuality         9681 non-null   object\n",
      " 29  Pedestrian_movement          12316 non-null  object\n",
      " 30  Cause_of_accident            12316 non-null  object\n",
      " 31  Accident_severity            12316 non-null  object\n",
      "dtypes: int64(2), object(30)\n",
      "memory usage: 3.0+ MB\n"
     ]
    }
   ],
   "source": [
    "df_train.info()"
   ]
  },
  {
   "cell_type": "code",
   "execution_count": null,
   "metadata": {},
   "outputs": [
    {
     "data": {
      "text/html": [
       "<div>\n",
       "<style scoped>\n",
       "    .dataframe tbody tr th:only-of-type {\n",
       "        vertical-align: middle;\n",
       "    }\n",
       "\n",
       "    .dataframe tbody tr th {\n",
       "        vertical-align: top;\n",
       "    }\n",
       "\n",
       "    .dataframe thead th {\n",
       "        text-align: right;\n",
       "    }\n",
       "</style>\n",
       "<table border=\"1\" class=\"dataframe\">\n",
       "  <thead>\n",
       "    <tr style=\"text-align: right;\">\n",
       "      <th></th>\n",
       "      <th>Time</th>\n",
       "      <th>Day_of_week</th>\n",
       "      <th>Age_band_of_driver</th>\n",
       "      <th>Sex_of_driver</th>\n",
       "      <th>Educational_level</th>\n",
       "      <th>Vehicle_driver_relation</th>\n",
       "      <th>Driving_experience</th>\n",
       "      <th>Type_of_vehicle</th>\n",
       "      <th>Owner_of_vehicle</th>\n",
       "      <th>Service_year_of_vehicle</th>\n",
       "      <th>...</th>\n",
       "      <th>Vehicle_movement</th>\n",
       "      <th>Casualty_class</th>\n",
       "      <th>Sex_of_casualty</th>\n",
       "      <th>Age_band_of_casualty</th>\n",
       "      <th>Casualty_severity</th>\n",
       "      <th>Work_of_casuality</th>\n",
       "      <th>Fitness_of_casuality</th>\n",
       "      <th>Pedestrian_movement</th>\n",
       "      <th>Cause_of_accident</th>\n",
       "      <th>Accident_severity</th>\n",
       "    </tr>\n",
       "  </thead>\n",
       "  <tbody>\n",
       "    <tr>\n",
       "      <th>0</th>\n",
       "      <td>17:02:00</td>\n",
       "      <td>Monday</td>\n",
       "      <td>18-30</td>\n",
       "      <td>Male</td>\n",
       "      <td>Above high school</td>\n",
       "      <td>Employee</td>\n",
       "      <td>1-2yr</td>\n",
       "      <td>Automobile</td>\n",
       "      <td>Owner</td>\n",
       "      <td>Above 10yr</td>\n",
       "      <td>...</td>\n",
       "      <td>Going straight</td>\n",
       "      <td>na</td>\n",
       "      <td>na</td>\n",
       "      <td>na</td>\n",
       "      <td>na</td>\n",
       "      <td>NaN</td>\n",
       "      <td>NaN</td>\n",
       "      <td>Not a Pedestrian</td>\n",
       "      <td>Moving Backward</td>\n",
       "      <td>Slight Injury</td>\n",
       "    </tr>\n",
       "    <tr>\n",
       "      <th>1</th>\n",
       "      <td>17:02:00</td>\n",
       "      <td>Monday</td>\n",
       "      <td>31-50</td>\n",
       "      <td>Male</td>\n",
       "      <td>Junior high school</td>\n",
       "      <td>Employee</td>\n",
       "      <td>Above 10yr</td>\n",
       "      <td>Public (&gt; 45 seats)</td>\n",
       "      <td>Owner</td>\n",
       "      <td>5-10yrs</td>\n",
       "      <td>...</td>\n",
       "      <td>Going straight</td>\n",
       "      <td>na</td>\n",
       "      <td>na</td>\n",
       "      <td>na</td>\n",
       "      <td>na</td>\n",
       "      <td>NaN</td>\n",
       "      <td>NaN</td>\n",
       "      <td>Not a Pedestrian</td>\n",
       "      <td>Overtaking</td>\n",
       "      <td>Slight Injury</td>\n",
       "    </tr>\n",
       "    <tr>\n",
       "      <th>2</th>\n",
       "      <td>17:02:00</td>\n",
       "      <td>Monday</td>\n",
       "      <td>18-30</td>\n",
       "      <td>Male</td>\n",
       "      <td>Junior high school</td>\n",
       "      <td>Employee</td>\n",
       "      <td>1-2yr</td>\n",
       "      <td>Lorry (41?100Q)</td>\n",
       "      <td>Owner</td>\n",
       "      <td>NaN</td>\n",
       "      <td>...</td>\n",
       "      <td>Going straight</td>\n",
       "      <td>Driver or rider</td>\n",
       "      <td>Male</td>\n",
       "      <td>31-50</td>\n",
       "      <td>3</td>\n",
       "      <td>Driver</td>\n",
       "      <td>NaN</td>\n",
       "      <td>Not a Pedestrian</td>\n",
       "      <td>Changing lane to the left</td>\n",
       "      <td>Serious Injury</td>\n",
       "    </tr>\n",
       "    <tr>\n",
       "      <th>3</th>\n",
       "      <td>1:06:00</td>\n",
       "      <td>Sunday</td>\n",
       "      <td>18-30</td>\n",
       "      <td>Male</td>\n",
       "      <td>Junior high school</td>\n",
       "      <td>Employee</td>\n",
       "      <td>5-10yr</td>\n",
       "      <td>Public (&gt; 45 seats)</td>\n",
       "      <td>Governmental</td>\n",
       "      <td>NaN</td>\n",
       "      <td>...</td>\n",
       "      <td>Going straight</td>\n",
       "      <td>Pedestrian</td>\n",
       "      <td>Female</td>\n",
       "      <td>18-30</td>\n",
       "      <td>3</td>\n",
       "      <td>Driver</td>\n",
       "      <td>Normal</td>\n",
       "      <td>Not a Pedestrian</td>\n",
       "      <td>Changing lane to the right</td>\n",
       "      <td>Slight Injury</td>\n",
       "    </tr>\n",
       "    <tr>\n",
       "      <th>4</th>\n",
       "      <td>1:06:00</td>\n",
       "      <td>Sunday</td>\n",
       "      <td>18-30</td>\n",
       "      <td>Male</td>\n",
       "      <td>Junior high school</td>\n",
       "      <td>Employee</td>\n",
       "      <td>2-5yr</td>\n",
       "      <td>NaN</td>\n",
       "      <td>Owner</td>\n",
       "      <td>5-10yrs</td>\n",
       "      <td>...</td>\n",
       "      <td>Going straight</td>\n",
       "      <td>na</td>\n",
       "      <td>na</td>\n",
       "      <td>na</td>\n",
       "      <td>na</td>\n",
       "      <td>NaN</td>\n",
       "      <td>NaN</td>\n",
       "      <td>Not a Pedestrian</td>\n",
       "      <td>Overtaking</td>\n",
       "      <td>Slight Injury</td>\n",
       "    </tr>\n",
       "    <tr>\n",
       "      <th>...</th>\n",
       "      <td>...</td>\n",
       "      <td>...</td>\n",
       "      <td>...</td>\n",
       "      <td>...</td>\n",
       "      <td>...</td>\n",
       "      <td>...</td>\n",
       "      <td>...</td>\n",
       "      <td>...</td>\n",
       "      <td>...</td>\n",
       "      <td>...</td>\n",
       "      <td>...</td>\n",
       "      <td>...</td>\n",
       "      <td>...</td>\n",
       "      <td>...</td>\n",
       "      <td>...</td>\n",
       "      <td>...</td>\n",
       "      <td>...</td>\n",
       "      <td>...</td>\n",
       "      <td>...</td>\n",
       "      <td>...</td>\n",
       "      <td>...</td>\n",
       "    </tr>\n",
       "    <tr>\n",
       "      <th>12311</th>\n",
       "      <td>16:15:00</td>\n",
       "      <td>Wednesday</td>\n",
       "      <td>31-50</td>\n",
       "      <td>Male</td>\n",
       "      <td>NaN</td>\n",
       "      <td>Employee</td>\n",
       "      <td>2-5yr</td>\n",
       "      <td>Lorry (11?40Q)</td>\n",
       "      <td>Owner</td>\n",
       "      <td>NaN</td>\n",
       "      <td>...</td>\n",
       "      <td>Going straight</td>\n",
       "      <td>na</td>\n",
       "      <td>na</td>\n",
       "      <td>na</td>\n",
       "      <td>na</td>\n",
       "      <td>Driver</td>\n",
       "      <td>Normal</td>\n",
       "      <td>Not a Pedestrian</td>\n",
       "      <td>No distancing</td>\n",
       "      <td>Slight Injury</td>\n",
       "    </tr>\n",
       "    <tr>\n",
       "      <th>12312</th>\n",
       "      <td>18:00:00</td>\n",
       "      <td>Sunday</td>\n",
       "      <td>Unknown</td>\n",
       "      <td>Male</td>\n",
       "      <td>Elementary school</td>\n",
       "      <td>Employee</td>\n",
       "      <td>5-10yr</td>\n",
       "      <td>Automobile</td>\n",
       "      <td>Owner</td>\n",
       "      <td>NaN</td>\n",
       "      <td>...</td>\n",
       "      <td>Other</td>\n",
       "      <td>na</td>\n",
       "      <td>na</td>\n",
       "      <td>na</td>\n",
       "      <td>na</td>\n",
       "      <td>Driver</td>\n",
       "      <td>Normal</td>\n",
       "      <td>Not a Pedestrian</td>\n",
       "      <td>No distancing</td>\n",
       "      <td>Slight Injury</td>\n",
       "    </tr>\n",
       "    <tr>\n",
       "      <th>12313</th>\n",
       "      <td>13:55:00</td>\n",
       "      <td>Sunday</td>\n",
       "      <td>Over 51</td>\n",
       "      <td>Male</td>\n",
       "      <td>Junior high school</td>\n",
       "      <td>Employee</td>\n",
       "      <td>5-10yr</td>\n",
       "      <td>Bajaj</td>\n",
       "      <td>Owner</td>\n",
       "      <td>2-5yrs</td>\n",
       "      <td>...</td>\n",
       "      <td>Other</td>\n",
       "      <td>Driver or rider</td>\n",
       "      <td>Male</td>\n",
       "      <td>31-50</td>\n",
       "      <td>3</td>\n",
       "      <td>Driver</td>\n",
       "      <td>Normal</td>\n",
       "      <td>Not a Pedestrian</td>\n",
       "      <td>Changing lane to the right</td>\n",
       "      <td>Serious Injury</td>\n",
       "    </tr>\n",
       "    <tr>\n",
       "      <th>12314</th>\n",
       "      <td>13:55:00</td>\n",
       "      <td>Sunday</td>\n",
       "      <td>18-30</td>\n",
       "      <td>Female</td>\n",
       "      <td>Junior high school</td>\n",
       "      <td>Employee</td>\n",
       "      <td>Above 10yr</td>\n",
       "      <td>Lorry (41?100Q)</td>\n",
       "      <td>Owner</td>\n",
       "      <td>2-5yrs</td>\n",
       "      <td>...</td>\n",
       "      <td>Other</td>\n",
       "      <td>na</td>\n",
       "      <td>na</td>\n",
       "      <td>na</td>\n",
       "      <td>na</td>\n",
       "      <td>Driver</td>\n",
       "      <td>Normal</td>\n",
       "      <td>Not a Pedestrian</td>\n",
       "      <td>Driving under the influence of drugs</td>\n",
       "      <td>Slight Injury</td>\n",
       "    </tr>\n",
       "    <tr>\n",
       "      <th>12315</th>\n",
       "      <td>13:55:00</td>\n",
       "      <td>Sunday</td>\n",
       "      <td>18-30</td>\n",
       "      <td>Male</td>\n",
       "      <td>Junior high school</td>\n",
       "      <td>Employee</td>\n",
       "      <td>5-10yr</td>\n",
       "      <td>Other</td>\n",
       "      <td>Owner</td>\n",
       "      <td>2-5yrs</td>\n",
       "      <td>...</td>\n",
       "      <td>Stopping</td>\n",
       "      <td>Pedestrian</td>\n",
       "      <td>Female</td>\n",
       "      <td>5</td>\n",
       "      <td>3</td>\n",
       "      <td>Driver</td>\n",
       "      <td>Normal</td>\n",
       "      <td>Crossing from nearside - masked by parked or s...</td>\n",
       "      <td>Changing lane to the right</td>\n",
       "      <td>Slight Injury</td>\n",
       "    </tr>\n",
       "  </tbody>\n",
       "</table>\n",
       "<p>12316 rows × 32 columns</p>\n",
       "</div>"
      ],
      "text/plain": [
       "           Time Day_of_week Age_band_of_driver Sex_of_driver  \\\n",
       "0      17:02:00      Monday              18-30          Male   \n",
       "1      17:02:00      Monday              31-50          Male   \n",
       "2      17:02:00      Monday              18-30          Male   \n",
       "3       1:06:00      Sunday              18-30          Male   \n",
       "4       1:06:00      Sunday              18-30          Male   \n",
       "...         ...         ...                ...           ...   \n",
       "12311  16:15:00   Wednesday              31-50          Male   \n",
       "12312  18:00:00      Sunday            Unknown          Male   \n",
       "12313  13:55:00      Sunday            Over 51          Male   \n",
       "12314  13:55:00      Sunday              18-30        Female   \n",
       "12315  13:55:00      Sunday              18-30          Male   \n",
       "\n",
       "        Educational_level Vehicle_driver_relation Driving_experience  \\\n",
       "0       Above high school                Employee              1-2yr   \n",
       "1      Junior high school                Employee         Above 10yr   \n",
       "2      Junior high school                Employee              1-2yr   \n",
       "3      Junior high school                Employee             5-10yr   \n",
       "4      Junior high school                Employee              2-5yr   \n",
       "...                   ...                     ...                ...   \n",
       "12311                 NaN                Employee              2-5yr   \n",
       "12312   Elementary school                Employee             5-10yr   \n",
       "12313  Junior high school                Employee             5-10yr   \n",
       "12314  Junior high school                Employee         Above 10yr   \n",
       "12315  Junior high school                Employee             5-10yr   \n",
       "\n",
       "           Type_of_vehicle Owner_of_vehicle Service_year_of_vehicle  ...  \\\n",
       "0               Automobile            Owner              Above 10yr  ...   \n",
       "1      Public (> 45 seats)            Owner                 5-10yrs  ...   \n",
       "2          Lorry (41?100Q)            Owner                     NaN  ...   \n",
       "3      Public (> 45 seats)     Governmental                     NaN  ...   \n",
       "4                      NaN            Owner                 5-10yrs  ...   \n",
       "...                    ...              ...                     ...  ...   \n",
       "12311       Lorry (11?40Q)            Owner                     NaN  ...   \n",
       "12312           Automobile            Owner                     NaN  ...   \n",
       "12313                Bajaj            Owner                  2-5yrs  ...   \n",
       "12314      Lorry (41?100Q)            Owner                  2-5yrs  ...   \n",
       "12315                Other            Owner                  2-5yrs  ...   \n",
       "\n",
       "      Vehicle_movement   Casualty_class Sex_of_casualty Age_band_of_casualty  \\\n",
       "0       Going straight               na              na                   na   \n",
       "1       Going straight               na              na                   na   \n",
       "2       Going straight  Driver or rider            Male                31-50   \n",
       "3       Going straight       Pedestrian          Female                18-30   \n",
       "4       Going straight               na              na                   na   \n",
       "...                ...              ...             ...                  ...   \n",
       "12311   Going straight               na              na                   na   \n",
       "12312            Other               na              na                   na   \n",
       "12313            Other  Driver or rider            Male                31-50   \n",
       "12314            Other               na              na                   na   \n",
       "12315         Stopping       Pedestrian          Female                    5   \n",
       "\n",
       "      Casualty_severity Work_of_casuality Fitness_of_casuality  \\\n",
       "0                    na               NaN                  NaN   \n",
       "1                    na               NaN                  NaN   \n",
       "2                     3            Driver                  NaN   \n",
       "3                     3            Driver               Normal   \n",
       "4                    na               NaN                  NaN   \n",
       "...                 ...               ...                  ...   \n",
       "12311                na            Driver               Normal   \n",
       "12312                na            Driver               Normal   \n",
       "12313                 3            Driver               Normal   \n",
       "12314                na            Driver               Normal   \n",
       "12315                 3            Driver               Normal   \n",
       "\n",
       "                                     Pedestrian_movement  \\\n",
       "0                                       Not a Pedestrian   \n",
       "1                                       Not a Pedestrian   \n",
       "2                                       Not a Pedestrian   \n",
       "3                                       Not a Pedestrian   \n",
       "4                                       Not a Pedestrian   \n",
       "...                                                  ...   \n",
       "12311                                   Not a Pedestrian   \n",
       "12312                                   Not a Pedestrian   \n",
       "12313                                   Not a Pedestrian   \n",
       "12314                                   Not a Pedestrian   \n",
       "12315  Crossing from nearside - masked by parked or s...   \n",
       "\n",
       "                          Cause_of_accident Accident_severity  \n",
       "0                           Moving Backward     Slight Injury  \n",
       "1                                Overtaking     Slight Injury  \n",
       "2                 Changing lane to the left    Serious Injury  \n",
       "3                Changing lane to the right     Slight Injury  \n",
       "4                                Overtaking     Slight Injury  \n",
       "...                                     ...               ...  \n",
       "12311                         No distancing     Slight Injury  \n",
       "12312                         No distancing     Slight Injury  \n",
       "12313            Changing lane to the right    Serious Injury  \n",
       "12314  Driving under the influence of drugs     Slight Injury  \n",
       "12315            Changing lane to the right     Slight Injury  \n",
       "\n",
       "[12316 rows x 32 columns]"
      ]
     },
     "execution_count": 36,
     "metadata": {},
     "output_type": "execute_result"
    }
   ],
   "source": [
    "df_train"
   ]
  },
  {
   "cell_type": "code",
   "execution_count": null,
   "metadata": {},
   "outputs": [
    {
     "data": {
      "text/plain": [
       "Vehicle_driver_relation\n",
       "Employee    9627\n",
       "Owner       1973\n",
       "Other        123\n",
       "Unknown       14\n",
       "Name: count, dtype: int64"
      ]
     },
     "execution_count": 37,
     "metadata": {},
     "output_type": "execute_result"
    }
   ],
   "source": [
    "df_train['Vehicle_driver_relation'].value_counts()"
   ]
  },
  {
   "cell_type": "markdown",
   "metadata": {},
   "source": [
    "imputasi"
   ]
  },
  {
   "cell_type": "code",
   "execution_count": null,
   "metadata": {},
   "outputs": [
    {
     "data": {
      "text/plain": [
       "Owner_of_vehicle\n",
       "Owner           10459\n",
       "Governmental     1041\n",
       "Organization      312\n",
       "Other              22\n",
       "Name: count, dtype: int64"
      ]
     },
     "execution_count": 38,
     "metadata": {},
     "output_type": "execute_result"
    }
   ],
   "source": [
    "df_train['Owner_of_vehicle'].value_counts()"
   ]
  },
  {
   "cell_type": "code",
   "execution_count": null,
   "metadata": {},
   "outputs": [
    {
     "data": {
      "text/plain": [
       "Type_of_vehicle\n",
       "Automobile              3205\n",
       "Lorry (41?100Q)         2186\n",
       "Other                   1208\n",
       "Pick up upto 10Q         811\n",
       "Public (12 seats)        711\n",
       "Stationwagen             687\n",
       "Lorry (11?40Q)           541\n",
       "Public (13?45 seats)     532\n",
       "Public (> 45 seats)      404\n",
       "Long lorry               383\n",
       "Taxi                     265\n",
       "Motorcycle               177\n",
       "Special vehicle           84\n",
       "Ridden horse              76\n",
       "Turbo                     46\n",
       "Bajaj                     29\n",
       "Bicycle                   21\n",
       "Name: count, dtype: int64"
      ]
     },
     "execution_count": 39,
     "metadata": {},
     "output_type": "execute_result"
    }
   ],
   "source": [
    "df_train['Type_of_vehicle'].value_counts()"
   ]
  },
  {
   "cell_type": "markdown",
   "metadata": {},
   "source": [
    "mungkij nanti bisa di jadiin kategori yang lebih kecil ya kek misal kendaraan besar kecil or something nanti kita coba\""
   ]
  },
  {
   "cell_type": "code",
   "execution_count": null,
   "metadata": {},
   "outputs": [
    {
     "data": {
      "text/plain": [
       "Accident_severity\n",
       "Slight Injury     10415\n",
       "Serious Injury     1743\n",
       "Fatal injury        158\n",
       "Name: count, dtype: int64"
      ]
     },
     "execution_count": 40,
     "metadata": {},
     "output_type": "execute_result"
    }
   ],
   "source": [
    "df_train['Accident_severity'].value_counts()"
   ]
  },
  {
   "cell_type": "markdown",
   "metadata": {},
   "source": [
    "tagetnya imbalance kocag"
   ]
  },
  {
   "cell_type": "code",
   "execution_count": null,
   "metadata": {},
   "outputs": [
    {
     "data": {
      "text/plain": [
       "Lanes_or_Medians\n",
       "Two-way (divided with broken lines road marking)    4411\n",
       "Undivided Two way                                   3796\n",
       "other                                               1660\n",
       "Double carriageway (median)                         1020\n",
       "One way                                              845\n",
       "Two-way (divided with solid lines road marking)      142\n",
       "Unknown                                               57\n",
       "Name: count, dtype: int64"
      ]
     },
     "execution_count": 41,
     "metadata": {},
     "output_type": "execute_result"
    }
   ],
   "source": [
    "df_train['Lanes_or_Medians'].value_counts()"
   ]
  },
  {
   "cell_type": "markdown",
   "metadata": {},
   "source": [
    "ini jalur nya kek mana ya trs imputasi juauga nanti"
   ]
  },
  {
   "cell_type": "code",
   "execution_count": null,
   "metadata": {},
   "outputs": [
    {
     "data": {
      "text/plain": [
       "Road_allignment\n",
       "Tangent road with flat terrain                   10459\n",
       "Tangent road with mild grade and flat terrain      501\n",
       "Steep grade downward with mountainous terrain      429\n",
       "Tangent road with mountainous terrain and          396\n",
       "Gentle horizontal curve                            163\n",
       "Escarpments                                        113\n",
       "Sharp reverse curve                                 57\n",
       "Tangent road with rolling terrain                   37\n",
       "Steep grade upward with mountainous terrain         19\n",
       "Name: count, dtype: int64"
      ]
     },
     "execution_count": 42,
     "metadata": {},
     "output_type": "execute_result"
    }
   ],
   "source": [
    "df_train['Road_allignment'].value_counts()"
   ]
  },
  {
   "cell_type": "markdown",
   "metadata": {},
   "source": [
    "mungkin nanti bisa di kategorinya lebih dikit lagi"
   ]
  },
  {
   "cell_type": "code",
   "execution_count": null,
   "metadata": {},
   "outputs": [
    {
     "data": {
      "text/html": [
       "<div>\n",
       "<style scoped>\n",
       "    .dataframe tbody tr th:only-of-type {\n",
       "        vertical-align: middle;\n",
       "    }\n",
       "\n",
       "    .dataframe tbody tr th {\n",
       "        vertical-align: top;\n",
       "    }\n",
       "\n",
       "    .dataframe thead th {\n",
       "        text-align: right;\n",
       "    }\n",
       "</style>\n",
       "<table border=\"1\" class=\"dataframe\">\n",
       "  <thead>\n",
       "    <tr style=\"text-align: right;\">\n",
       "      <th></th>\n",
       "      <th>Number_of_vehicles_involved</th>\n",
       "      <th>Number_of_casualties</th>\n",
       "    </tr>\n",
       "  </thead>\n",
       "  <tbody>\n",
       "    <tr>\n",
       "      <th>count</th>\n",
       "      <td>12316.000000</td>\n",
       "      <td>12316.000000</td>\n",
       "    </tr>\n",
       "    <tr>\n",
       "      <th>mean</th>\n",
       "      <td>2.040679</td>\n",
       "      <td>1.548149</td>\n",
       "    </tr>\n",
       "    <tr>\n",
       "      <th>std</th>\n",
       "      <td>0.688790</td>\n",
       "      <td>1.007179</td>\n",
       "    </tr>\n",
       "    <tr>\n",
       "      <th>min</th>\n",
       "      <td>1.000000</td>\n",
       "      <td>1.000000</td>\n",
       "    </tr>\n",
       "    <tr>\n",
       "      <th>25%</th>\n",
       "      <td>2.000000</td>\n",
       "      <td>1.000000</td>\n",
       "    </tr>\n",
       "    <tr>\n",
       "      <th>50%</th>\n",
       "      <td>2.000000</td>\n",
       "      <td>1.000000</td>\n",
       "    </tr>\n",
       "    <tr>\n",
       "      <th>75%</th>\n",
       "      <td>2.000000</td>\n",
       "      <td>2.000000</td>\n",
       "    </tr>\n",
       "    <tr>\n",
       "      <th>max</th>\n",
       "      <td>7.000000</td>\n",
       "      <td>8.000000</td>\n",
       "    </tr>\n",
       "  </tbody>\n",
       "</table>\n",
       "</div>"
      ],
      "text/plain": [
       "       Number_of_vehicles_involved  Number_of_casualties\n",
       "count                 12316.000000          12316.000000\n",
       "mean                      2.040679              1.548149\n",
       "std                       0.688790              1.007179\n",
       "min                       1.000000              1.000000\n",
       "25%                       2.000000              1.000000\n",
       "50%                       2.000000              1.000000\n",
       "75%                       2.000000              2.000000\n",
       "max                       7.000000              8.000000"
      ]
     },
     "execution_count": 43,
     "metadata": {},
     "output_type": "execute_result"
    }
   ],
   "source": [
    "df_train.describe()"
   ]
  },
  {
   "cell_type": "code",
   "execution_count": null,
   "metadata": {},
   "outputs": [
    {
     "data": {
      "text/plain": [
       "np.int64(20057)"
      ]
     },
     "execution_count": 44,
     "metadata": {},
     "output_type": "execute_result"
    }
   ],
   "source": [
    "df_train.isna().sum().sum()"
   ]
  },
  {
   "cell_type": "code",
   "execution_count": null,
   "metadata": {},
   "outputs": [
    {
     "name": "stdout",
     "output_type": "stream",
     "text": [
      "Penurunan jumlah kecelakaan dari 2023 ke 2024: 8.24%\n"
     ]
    },
    {
     "data": {
      "image/png": "[encoded data removed]",
      "text/plain": [
       "<Figure size 600x400 with 1 Axes>"
      ]
     },
     "metadata": {},
     "output_type": "display_data"
    }
   ],
   "source": [
    "\n",
    "\n",
    "data = {\n",
    "    'Tahun': [2023, 2024],\n",
    "    'Jumlah Kecelakaan': [1723, 1581]\n",
    "}\n",
    "df = pd.DataFrame(data)\n",
    "\n",
    "penurunan_persen = ((df['Jumlah Kecelakaan'][0] - df['Jumlah Kecelakaan'][1]) / df['Jumlah Kecelakaan'][0]) * 100\n",
    "print(f\"Penurunan jumlah kecelakaan dari 2023 ke 2024: {penurunan_persen:.2f}%\")\n",
    "\n",
    "plt.figure(figsize=(6, 4))\n",
    "plt.bar(df['Tahun'], df['Jumlah Kecelakaan'], color=['red', 'green'])\n",
    "plt.xlabel('Tahun')\n",
    "plt.ylabel('Jumlah Kecelakaan')\n",
    "plt.title('Tren Kecelakaan Selama Arus Mudik')\n",
    "plt.xticks(df['Tahun'])\n",
    "plt.ylim(1500, 1800)\n",
    "\n",
    "for i, val in enumerate(df['Jumlah Kecelakaan']):\n",
    "    plt.text(df['Tahun'][i], val + 10, str(val), ha='center', fontsize=12)\n",
    "\n",
    "plt.show()\n"
   ]
  },
  {
   "cell_type": "code",
   "execution_count": null,
   "metadata": {},
   "outputs": [
    {
     "name": "stdout",
     "output_type": "stream",
     "text": [
      "<class 'pandas.core.frame.DataFrame'>\n",
      "RangeIndex: 12316 entries, 0 to 12315\n",
      "Data columns (total 32 columns):\n",
      " #   Column                       Non-Null Count  Dtype \n",
      "---  ------                       --------------  ----- \n",
      " 0   Time                         12316 non-null  object\n",
      " 1   Day_of_week                  12316 non-null  object\n",
      " 2   Age_band_of_driver           12316 non-null  object\n",
      " 3   Sex_of_driver                12316 non-null  object\n",
      " 4   Educational_level            11575 non-null  object\n",
      " 5   Vehicle_driver_relation      11737 non-null  object\n",
      " 6   Driving_experience           11487 non-null  object\n",
      " 7   Type_of_vehicle              11366 non-null  object\n",
      " 8   Owner_of_vehicle             11834 non-null  object\n",
      " 9   Service_year_of_vehicle      8388 non-null   object\n",
      " 10  Defect_of_vehicle            7889 non-null   object\n",
      " 11  Area_accident_occured        12077 non-null  object\n",
      " 12  Lanes_or_Medians             11931 non-null  object\n",
      " 13  Road_allignment              12174 non-null  object\n",
      " 14  Types_of_Junction            11429 non-null  object\n",
      " 15  Road_surface_type            12144 non-null  object\n",
      " 16  Road_surface_conditions      12316 non-null  object\n",
      " 17  Light_conditions             12316 non-null  object\n",
      " 18  Weather_conditions           12316 non-null  object\n",
      " 19  Type_of_collision            12161 non-null  object\n",
      " 20  Number_of_vehicles_involved  12316 non-null  int64 \n",
      " 21  Number_of_casualties         12316 non-null  int64 \n",
      " 22  Vehicle_movement             12008 non-null  object\n",
      " 23  Casualty_class               12316 non-null  object\n",
      " 24  Sex_of_casualty              12316 non-null  object\n",
      " 25  Age_band_of_casualty         12316 non-null  object\n",
      " 26  Casualty_severity            12316 non-null  object\n",
      " 27  Work_of_casuality            9118 non-null   object\n",
      " 28  Fitness_of_casuality         9681 non-null   object\n",
      " 29  Pedestrian_movement          12316 non-null  object\n",
      " 30  Cause_of_accident            12316 non-null  object\n",
      " 31  Accident_severity            12316 non-null  object\n",
      "dtypes: int64(2), object(30)\n",
      "memory usage: 3.0+ MB\n"
     ]
    }
   ],
   "source": [
    "df_train.info()"
   ]
  },
  {
   "cell_type": "code",
   "execution_count": null,
   "metadata": {},
   "outputs": [
    {
     "data": {
      "image/png": "[encoded data removed]",
      "text/plain": [
       "<Figure size 1400x1000 with 1 Axes>"
      ]
     },
     "metadata": {},
     "output_type": "display_data"
    }
   ],
   "source": [
    "missing_values = df_train.isnull().sum()\n",
    "missing_values = missing_values[missing_values > 0]\n",
    "missing_values.sort_values(ascending=False, inplace=True)\n",
    "\n",
    "plt.figure(figsize=(14, 10))\n",
    "bars = missing_values.plot(kind='barh', color=plt.cm.plasma(missing_values / max(missing_values)))\n",
    "plt.title('Jumlah Missing Values Berdasarkan Kolom', fontsize=14)\n",
    "plt.xlabel('Jumlah Missing Values', fontsize=12)\n",
    "plt.ylabel('Kolom', fontsize=12)\n",
    "plt.xticks(fontsize=10)\n",
    "plt.yticks(fontsize=10)\n",
    "plt.gca().invert_yaxis()\n",
    "\n",
    "for i, v in enumerate(missing_values):\n",
    "    bars.text(v + 5, i, str(v), ha='left', fontsize=10)\n",
    "\n",
    "plt.tight_layout()\n",
    "plt.show()\n"
   ]
  },
  {
   "cell_type": "code",
   "execution_count": null,
   "metadata": {},
   "outputs": [
    {
     "data": {
      "image/png": "[encoded data removed]",
      "text/plain": [
       "<Figure size 1000x600 with 1 Axes>"
      ]
     },
     "metadata": {},
     "output_type": "display_data"
    }
   ],
   "source": [
    "import matplotlib.pyplot as plt\n",
    "import seaborn as sns\n",
    "\n",
    "target_counts = df_train['Accident_severity'].value_counts()\n",
    "colors = sns.color_palette(\"Set2\", len(target_counts))\n",
    "\n",
    "plt.figure(figsize=(10, 6))\n",
    "bars = target_counts.plot(kind='bar', color=colors)\n",
    "plt.title('Distribusi Kelas Target', fontsize=14)\n",
    "plt.xlabel('Kelas', fontsize=12)\n",
    "plt.ylabel('Jumlah Data', fontsize=12)\n",
    "plt.xticks(rotation=0, fontsize=10)\n",
    "plt.yticks(fontsize=10)\n",
    "\n",
    "for i, v in enumerate(target_counts):\n",
    "    bars.text(i, v + 5, str(v), ha='center', fontsize=10)\n",
    "\n",
    "plt.tight_layout()\n",
    "plt.show()\n"
   ]
  },
  {
   "cell_type": "code",
   "execution_count": null,
   "metadata": {},
   "outputs": [
    {
     "data": {
      "image/png": "[encoded data removed]",
      "text/plain": [
       "<Figure size 800x600 with 1 Axes>"
      ]
     },
     "metadata": {},
     "output_type": "display_data"
    }
   ],
   "source": []
  },
  {
   "cell_type": "code",
   "execution_count": 12,
   "metadata": {},
   "outputs": [
    {
     "data": {
      "text/plain": [
       "Number_of_vehicles_involved\n",
       "2    8340\n",
       "1    1996\n",
       "3    1568\n",
       "4     363\n",
       "6      42\n",
       "7       7\n",
       "Name: count, dtype: int64"
      ]
     },
     "execution_count": 12,
     "metadata": {},
     "output_type": "execute_result"
    }
   ],
   "source": [
    "df_train['Number_of_vehicles_involved'].value_counts()"
   ]
  },
  {
   "cell_type": "markdown",
   "metadata": {},
   "source": [
    "ternyata banyak kecelakaan yang melinatkan banyak kendaraann"
   ]
  },
  {
   "cell_type": "code",
   "execution_count": 13,
   "metadata": {},
   "outputs": [
    {
     "data": {
      "text/plain": [
       "Number_of_casualties\n",
       "1    8397\n",
       "2    2290\n",
       "3     909\n",
       "4     394\n",
       "5     207\n",
       "6      89\n",
       "7      22\n",
       "8       8\n",
       "Name: count, dtype: int64"
      ]
     },
     "execution_count": 13,
     "metadata": {},
     "output_type": "execute_result"
    }
   ],
   "source": [
    "df_train['Number_of_casualties'].value_counts()"
   ]
  },
  {
   "cell_type": "markdown",
   "metadata": {},
   "source": [
    "korban nya harusnya banyak gak sih"
   ]
  },
  {
   "cell_type": "code",
   "execution_count": 14,
   "metadata": {},
   "outputs": [
    {
     "data": {
      "text/plain": [
       "Time\n",
       "15:30:00    120\n",
       "17:10:00    110\n",
       "18:30:00    103\n",
       "11:30:00     99\n",
       "17:00:00     98\n",
       "           ... \n",
       "0:52:00       1\n",
       "4:49:00       1\n",
       "14:31:00      1\n",
       "19:18:00      1\n",
       "2:47:00       1\n",
       "Name: count, Length: 1074, dtype: int64"
      ]
     },
     "execution_count": 14,
     "metadata": {},
     "output_type": "execute_result"
    }
   ],
   "source": [
    "df_train['Time'].value_counts()"
   ]
  },
  {
   "cell_type": "markdown",
   "metadata": {},
   "source": [
    "bisa di buat katgorikal kayak pagi siang malam sore"
   ]
  },
  {
   "cell_type": "code",
   "execution_count": 15,
   "metadata": {},
   "outputs": [
    {
     "data": {
      "text/plain": [
       "Day_of_week\n",
       "Friday       2041\n",
       "Thursday     1851\n",
       "Wednesday    1840\n",
       "Tuesday      1770\n",
       "Monday       1681\n",
       "Saturday     1666\n",
       "Sunday       1467\n",
       "Name: count, dtype: int64"
      ]
     },
     "execution_count": 15,
     "metadata": {},
     "output_type": "execute_result"
    }
   ],
   "source": [
    "df_train['Day_of_week'].value_counts()"
   ]
  },
  {
   "cell_type": "markdown",
   "metadata": {},
   "source": [
    "its good "
   ]
  },
  {
   "cell_type": "code",
   "execution_count": 16,
   "metadata": {},
   "outputs": [
    {
     "data": {
      "text/plain": [
       "Sex_of_driver\n",
       "Male       11437\n",
       "Female       701\n",
       "Unknown      178\n",
       "Name: count, dtype: int64"
      ]
     },
     "execution_count": 16,
     "metadata": {},
     "output_type": "execute_result"
    }
   ],
   "source": [
    "df_train['Sex_of_driver'].value_counts()"
   ]
  },
  {
   "cell_type": "markdown",
   "metadata": {},
   "source": [
    "imputasi saja kawan pake modus keknya"
   ]
  },
  {
   "cell_type": "code",
   "execution_count": 17,
   "metadata": {},
   "outputs": [
    {
     "data": {
      "text/plain": [
       "Educational_level\n",
       "Junior high school    7619\n",
       "Elementary school     2163\n",
       "High school           1110\n",
       "Above high school      362\n",
       "Writing & reading      176\n",
       "Unknown                100\n",
       "Illiterate              45\n",
       "Name: count, dtype: int64"
      ]
     },
     "execution_count": 17,
     "metadata": {},
     "output_type": "execute_result"
    }
   ],
   "source": [
    "df_train['Educational_level'].value_counts()"
   ]
  },
  {
   "cell_type": "markdown",
   "metadata": {},
   "source": [
    "writing and reading + unknown"
   ]
  },
  {
   "cell_type": "code",
   "execution_count": 18,
   "metadata": {},
   "outputs": [
    {
     "data": {
      "text/plain": [
       "Vehicle_driver_relation\n",
       "Employee    9627\n",
       "Owner       1973\n",
       "Other        123\n",
       "Unknown       14\n",
       "Name: count, dtype: int64"
      ]
     },
     "execution_count": 18,
     "metadata": {},
     "output_type": "execute_result"
    }
   ],
   "source": [
    "df_train['Vehicle_driver_relation'].value_counts()"
   ]
  },
  {
   "cell_type": "markdown",
   "metadata": {},
   "source": [
    "imputasi"
   ]
  },
  {
   "cell_type": "code",
   "execution_count": 20,
   "metadata": {},
   "outputs": [
    {
     "data": {
      "text/plain": [
       "Driving_experience\n",
       "5-10yr        3363\n",
       "2-5yr         2613\n",
       "Above 10yr    2262\n",
       "1-2yr         1756\n",
       "Below 1yr     1342\n",
       "No Licence     118\n",
       "unknown         33\n",
       "Name: count, dtype: int64"
      ]
     },
     "execution_count": 20,
     "metadata": {},
     "output_type": "execute_result"
    }
   ],
   "source": [
    "df_train['Driving_experience'].value_counts()"
   ]
  },
  {
   "cell_type": "markdown",
   "metadata": {},
   "source": [
    "imputasi"
   ]
  },
  {
   "cell_type": "code",
   "execution_count": 22,
   "metadata": {},
   "outputs": [
    {
     "data": {
      "text/plain": [
       "Owner_of_vehicle\n",
       "Owner           10459\n",
       "Governmental     1041\n",
       "Organization      312\n",
       "Other              22\n",
       "Name: count, dtype: int64"
      ]
     },
     "execution_count": 22,
     "metadata": {},
     "output_type": "execute_result"
    }
   ],
   "source": [
    "df_train['Owner_of_vehicle'].value_counts()"
   ]
  },
  {
   "cell_type": "markdown",
   "metadata": {},
   "source": [
    "good"
   ]
  },
  {
   "cell_type": "code",
   "execution_count": 23,
   "metadata": {},
   "outputs": [
    {
     "data": {
      "text/plain": [
       "Service_year_of_vehicle\n",
       "Unknown       2883\n",
       "2-5yrs        1792\n",
       "Above 10yr    1324\n",
       "5-10yrs       1280\n",
       "1-2yr          827\n",
       "Below 1yr      282\n",
       "Name: count, dtype: int64"
      ]
     },
     "execution_count": 23,
     "metadata": {},
     "output_type": "execute_result"
    }
   ],
   "source": [
    "df_train['Service_year_of_vehicle'].value_counts()"
   ]
  },
  {
   "cell_type": "markdown",
   "metadata": {},
   "source": [
    "imputasi atau ilangin"
   ]
  },
  {
   "cell_type": "code",
   "execution_count": 24,
   "metadata": {},
   "outputs": [
    {
     "data": {
      "text/plain": [
       "Defect_of_vehicle\n",
       "No defect    7777\n",
       "7              76\n",
       "5              36\n",
       "Name: count, dtype: int64"
      ]
     },
     "execution_count": 24,
     "metadata": {},
     "output_type": "execute_result"
    }
   ],
   "source": [
    "df_train['Defect_of_vehicle'].value_counts()"
   ]
  },
  {
   "cell_type": "markdown",
   "metadata": {},
   "source": [
    "hmmm analisis dulu kalo gak berguna buang aja dah "
   ]
  },
  {
   "cell_type": "code",
   "execution_count": 25,
   "metadata": {},
   "outputs": [
    {
     "data": {
      "text/plain": [
       "Area_accident_occured\n",
       "Other                              3819\n",
       "Office areas                       3451\n",
       "Residential areas                  2060\n",
       " Church areas                      1060\n",
       " Industrial areas                   456\n",
       "School areas                        415\n",
       "  Recreational areas                327\n",
       " Outside rural areas                218\n",
       " Hospital areas                     121\n",
       "  Market areas                       63\n",
       "Rural village areas                  44\n",
       "Unknown                              22\n",
       "Rural village areasOffice areas      20\n",
       "Recreational areas                    1\n",
       "Name: count, dtype: int64"
      ]
     },
     "execution_count": 25,
     "metadata": {},
     "output_type": "execute_result"
    }
   ],
   "source": [
    "df_train['Area_accident_occured'].value_counts()"
   ]
  },
  {
   "cell_type": "markdown",
   "metadata": {},
   "source": [
    "bisa di trim and imputasi"
   ]
  },
  {
   "cell_type": "code",
   "execution_count": 28,
   "metadata": {},
   "outputs": [
    {
     "data": {
      "text/plain": [
       "Type_of_collision\n",
       "Vehicle with vehicle collision             8774\n",
       "Collision with roadside objects            1786\n",
       "Collision with pedestrians                  896\n",
       "Rollover                                    397\n",
       "Collision with animals                      171\n",
       "Collision with roadside-parked vehicles      54\n",
       "Fall from vehicles                           34\n",
       "Other                                        26\n",
       "Unknown                                      14\n",
       "With Train                                    9\n",
       "Name: count, dtype: int64"
      ]
     },
     "execution_count": 28,
     "metadata": {},
     "output_type": "execute_result"
    }
   ],
   "source": [
    "df_train['Type_of_collision'].value_counts()"
   ]
  },
  {
   "cell_type": "markdown",
   "metadata": {},
   "source": [
    "imputasi"
   ]
  },
  {
   "cell_type": "code",
   "execution_count": 29,
   "metadata": {},
   "outputs": [
    {
     "data": {
      "text/plain": [
       "Road_surface_type\n",
       "Asphalt roads                       11296\n",
       "Earth roads                           358\n",
       "Gravel roads                          242\n",
       "Other                                 167\n",
       "Asphalt roads with some distress       81\n",
       "Name: count, dtype: int64"
      ]
     },
     "execution_count": 29,
     "metadata": {},
     "output_type": "execute_result"
    }
   ],
   "source": [
    "df_train['Road_surface_type'].value_counts()"
   ]
  },
  {
   "cell_type": "markdown",
   "metadata": {},
   "source": [
    "good"
   ]
  },
  {
   "cell_type": "code",
   "execution_count": 34,
   "metadata": {},
   "outputs": [
    {
     "data": {
      "text/plain": [
       "Light_conditions\n",
       "Daylight                   8798\n",
       "Darkness - lights lit      3286\n",
       "Darkness - no lighting      192\n",
       "Darkness - lights unlit      40\n",
       "Name: count, dtype: int64"
      ]
     },
     "execution_count": 34,
     "metadata": {},
     "output_type": "execute_result"
    }
   ],
   "source": [
    "df_train['Light_conditions'].value_counts()"
   ]
  },
  {
   "cell_type": "code",
   "execution_count": 35,
   "metadata": {},
   "outputs": [
    {
     "data": {
      "text/plain": [
       "Weather_conditions\n",
       "Normal               10063\n",
       "Raining               1331\n",
       "Other                  296\n",
       "Unknown                292\n",
       "Cloudy                 125\n",
       "Windy                   98\n",
       "Snow                    61\n",
       "Raining and Windy       40\n",
       "Fog or mist             10\n",
       "Name: count, dtype: int64"
      ]
     },
     "execution_count": 35,
     "metadata": {},
     "output_type": "execute_result"
    }
   ],
   "source": [
    "df_train['Weather_conditions'].value_counts()"
   ]
  },
  {
   "cell_type": "markdown",
   "metadata": {},
   "source": [
    "imputasi "
   ]
  },
  {
   "cell_type": "code",
   "execution_count": 36,
   "metadata": {},
   "outputs": [
    {
     "data": {
      "text/plain": [
       "Type_of_collision\n",
       "Vehicle with vehicle collision             8774\n",
       "Collision with roadside objects            1786\n",
       "Collision with pedestrians                  896\n",
       "Rollover                                    397\n",
       "Collision with animals                      171\n",
       "Collision with roadside-parked vehicles      54\n",
       "Fall from vehicles                           34\n",
       "Other                                        26\n",
       "Unknown                                      14\n",
       "With Train                                    9\n",
       "Name: count, dtype: int64"
      ]
     },
     "execution_count": 36,
     "metadata": {},
     "output_type": "execute_result"
    }
   ],
   "source": [
    "df_train['Type_of_collision'].value_counts()"
   ]
  },
  {
   "cell_type": "markdown",
   "metadata": {},
   "source": [
    "imputasi"
   ]
  },
  {
   "cell_type": "code",
   "execution_count": 37,
   "metadata": {},
   "outputs": [
    {
     "data": {
      "text/plain": [
       "Vehicle_movement\n",
       "Going straight         8158\n",
       "Moving Backward         985\n",
       "Other                   937\n",
       "Reversing               563\n",
       "Turnover                489\n",
       "Getting off             339\n",
       "Entering a junction     193\n",
       "Overtaking               96\n",
       "Unknown                  88\n",
       "Stopping                 61\n",
       "U-Turn                   50\n",
       "Waiting to go            39\n",
       "Parked                   10\n",
       "Name: count, dtype: int64"
      ]
     },
     "execution_count": 37,
     "metadata": {},
     "output_type": "execute_result"
    }
   ],
   "source": [
    "df_train['Vehicle_movement'].value_counts()"
   ]
  },
  {
   "cell_type": "code",
   "execution_count": 38,
   "metadata": {},
   "outputs": [
    {
     "data": {
      "text/plain": [
       "Casualty_class\n",
       "Driver or rider    4944\n",
       "na                 4443\n",
       "Pedestrian         1649\n",
       "Passenger          1280\n",
       "Name: count, dtype: int64"
      ]
     },
     "execution_count": 38,
     "metadata": {},
     "output_type": "execute_result"
    }
   ],
   "source": [
    "df_train['Casualty_class'].value_counts()"
   ]
  },
  {
   "cell_type": "markdown",
   "metadata": {},
   "source": [
    "na ini apa yak mari pelajari"
   ]
  },
  {
   "cell_type": "code",
   "execution_count": 39,
   "metadata": {},
   "outputs": [
    {
     "data": {
      "text/plain": [
       "Sex_of_casualty\n",
       "Male      5253\n",
       "na        4443\n",
       "Female    2620\n",
       "Name: count, dtype: int64"
      ]
     },
     "execution_count": 39,
     "metadata": {},
     "output_type": "execute_result"
    }
   ],
   "source": [
    "df_train['Sex_of_casualty'].value_counts()"
   ]
  },
  {
   "cell_type": "markdown",
   "metadata": {},
   "source": [
    "na juga"
   ]
  },
  {
   "cell_type": "code",
   "execution_count": 40,
   "metadata": {},
   "outputs": [
    {
     "data": {
      "text/plain": [
       "Age_band_of_casualty\n",
       "na          4443\n",
       "18-30       3145\n",
       "31-50       2455\n",
       "Under 18    1035\n",
       "Over 51      994\n",
       "5            244\n",
       "Name: count, dtype: int64"
      ]
     },
     "execution_count": 40,
     "metadata": {},
     "output_type": "execute_result"
    }
   ],
   "source": [
    "df_train['Age_band_of_casualty'].value_counts()"
   ]
  },
  {
   "cell_type": "markdown",
   "metadata": {},
   "source": [
    "na juga"
   ]
  },
  {
   "cell_type": "code",
   "execution_count": 42,
   "metadata": {},
   "outputs": [
    {
     "data": {
      "text/plain": [
       "Casualty_severity\n",
       "3     7076\n",
       "na    4443\n",
       "2      771\n",
       "1       26\n",
       "Name: count, dtype: int64"
      ]
     },
     "execution_count": 42,
     "metadata": {},
     "output_type": "execute_result"
    }
   ],
   "source": [
    "df_train['Casualty_severity'].value_counts()"
   ]
  },
  {
   "cell_type": "markdown",
   "metadata": {},
   "source": [
    "na juga"
   ]
  },
  {
   "cell_type": "code",
   "execution_count": 44,
   "metadata": {},
   "outputs": [
    {
     "data": {
      "text/plain": [
       "Work_of_casuality\n",
       "Driver           5903\n",
       "Self-employed    2044\n",
       "Employee          553\n",
       "Other             463\n",
       "Student           103\n",
       "Unemployed         33\n",
       "Unknown            19\n",
       "Name: count, dtype: int64"
      ]
     },
     "execution_count": 44,
     "metadata": {},
     "output_type": "execute_result"
    }
   ],
   "source": [
    "df_train['Work_of_casuality'].value_counts()"
   ]
  },
  {
   "cell_type": "markdown",
   "metadata": {},
   "source": [
    "imputasi"
   ]
  },
  {
   "cell_type": "code",
   "execution_count": 46,
   "metadata": {},
   "outputs": [
    {
     "data": {
      "text/plain": [
       "Work_of_casuality\n",
       "Driver           5903\n",
       "Self-employed    2044\n",
       "Employee          553\n",
       "Other             463\n",
       "Student           103\n",
       "Unemployed         33\n",
       "Unknown            19\n",
       "Name: count, dtype: int64"
      ]
     },
     "execution_count": 46,
     "metadata": {},
     "output_type": "execute_result"
    }
   ],
   "source": [
    "df_train['Work_of_casuality'].value_counts()"
   ]
  },
  {
   "cell_type": "markdown",
   "metadata": {},
   "source": [
    "imputasi"
   ]
  },
  {
   "cell_type": "code",
   "execution_count": 47,
   "metadata": {},
   "outputs": [
    {
     "data": {
      "text/plain": [
       "Fitness_of_casuality\n",
       "Normal          9608\n",
       "NormalNormal      19\n",
       "Deaf              18\n",
       "Other             18\n",
       "Blind             18\n",
       "Name: count, dtype: int64"
      ]
     },
     "execution_count": 47,
     "metadata": {},
     "output_type": "execute_result"
    }
   ],
   "source": [
    "df_train['Fitness_of_casuality'].value_counts()"
   ]
  },
  {
   "cell_type": "markdown",
   "metadata": {},
   "source": [
    "nah kkan ini bahaya"
   ]
  },
  {
   "cell_type": "code",
   "execution_count": 48,
   "metadata": {},
   "outputs": [
    {
     "data": {
      "text/plain": [
       "Pedestrian_movement\n",
       "Not a Pedestrian                                                                                                                         11390\n",
       "Crossing from nearside - masked by parked or statioNot a Pedestrianry vehicle                                                              337\n",
       "Unknown or other                                                                                                                           293\n",
       "Crossing from driver's nearside                                                                                                            140\n",
       "Crossing from offside - masked by  parked or statioNot a Pedestrianry vehicle                                                               72\n",
       "In carriageway, statioNot a Pedestrianry - not crossing  (standing or playing)                                                              46\n",
       "Walking along in carriageway, back to traffic                                                                                               18\n",
       "In carriageway, statioNot a Pedestrianry - not crossing  (standing or playing) - masked by parked or statioNot a Pedestrianry vehicle       13\n",
       "Walking along in carriageway, facing traffic                                                                                                 7\n",
       "Name: count, dtype: int64"
      ]
     },
     "execution_count": 48,
     "metadata": {},
     "output_type": "execute_result"
    }
   ],
   "source": [
    "df_train['Pedestrian_movement'].value_counts()"
   ]
  },
  {
   "cell_type": "markdown",
   "metadata": {},
   "source": [
    "ini yang paling gak jelas"
   ]
  },
  {
   "cell_type": "code",
   "execution_count": 49,
   "metadata": {},
   "outputs": [
    {
     "data": {
      "text/plain": [
       "Cause_of_accident\n",
       "No distancing                           2263\n",
       "Changing lane to the right              1808\n",
       "Changing lane to the left               1473\n",
       "Driving carelessly                      1402\n",
       "No priority to vehicle                  1207\n",
       "Moving Backward                         1137\n",
       "No priority to pedestrian                721\n",
       "Other                                    456\n",
       "Overtaking                               430\n",
       "Driving under the influence of drugs     340\n",
       "Driving to the left                      284\n",
       "Getting off the vehicle improperly       197\n",
       "Driving at high speed                    174\n",
       "Overturning                              149\n",
       "Turnover                                  78\n",
       "Overspeed                                 61\n",
       "Overloading                               59\n",
       "Drunk driving                             27\n",
       "Improper parking                          25\n",
       "Unknown                                   25\n",
       "Name: count, dtype: int64"
      ]
     },
     "execution_count": 49,
     "metadata": {},
     "output_type": "execute_result"
    }
   ],
   "source": [
    "df_train['Cause_of_accident'].value_counts()"
   ]
  },
  {
   "cell_type": "markdown",
   "metadata": {},
   "source": [
    "bisa diolah kembali nanti yah"
   ]
  },
  {
   "cell_type": "code",
   "execution_count": 51,
   "metadata": {},
   "outputs": [
    {
     "data": {
      "text/plain": [
       "2035    11\n",
       "1191    11\n",
       "1022    11\n",
       "5       10\n",
       "2058    10\n",
       "2204    10\n",
       "174     10\n",
       "1702     9\n",
       "1175     9\n",
       "1961     9\n",
       "dtype: int64"
      ]
     },
     "execution_count": 51,
     "metadata": {},
     "output_type": "execute_result"
    }
   ],
   "source": [
    "missing_counts = df_train.isnull().sum(axis=1)\n",
    "top_missing_rows = missing_counts.sort_values(ascending=False).head(10)\n",
    "top_missing_rows"
   ]
  },
  {
   "cell_type": "markdown",
   "metadata": {},
   "source": [
    "hmmmm"
   ]
  },
  {
   "cell_type": "code",
   "execution_count": null,
   "metadata": {},
   "outputs": [],
   "source": []
  },
  {
   "cell_type": "markdown",
   "metadata": {},
   "source": [
    "# PreProcessing"
   ]
  },
  {
   "cell_type": "markdown",
   "metadata": {},
   "source": [
    "# Analysis"
   ]
  },
  {
   "cell_type": "markdown",
   "metadata": {},
   "source": [
    "# BuildModel"
   ]
  }
 ],
 "metadata": {
  "kernelspec": {
   "display_name": "Python 3",
   "language": "python",
   "name": "python3"
  },
  "language_info": {
   "codemirror_mode": {
    "name": "ipython",
    "version": 3
   },
   "file_extension": ".py",
   "mimetype": "text/x-python",
   "name": "python",
   "nbconvert_exporter": "python",
   "pygments_lexer": "ipython3",
   "version": "3.9.21"
  }
 },
 "nbformat": 4,
 "nbformat_minor": 2
}
