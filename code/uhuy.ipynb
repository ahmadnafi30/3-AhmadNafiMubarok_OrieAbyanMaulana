{
 "cells": [
  {
   "cell_type": "code",
   "execution_count": 1,
   "metadata": {},
   "outputs": [],
   "source": [
    "import pandas as pd\n",
    "from sklearn.preprocessing import LabelEncoder\n",
    "from sklearn.model_selection import train_test_split\n",
    "from imblearn.over_sampling import SMOTE\n",
    "from imblearn.combine import SMOTETomek\n",
    "\n",
    "# 1. Membaca dataset\n",
    "df = pd.read_csv(\"../datasets/cleanedfix.csv\")\n",
    "\n",
    "# 2. Menangani missing values dengan imputasi berdasarkan distribusi\n",
    "def fill_unknown(df, col):\n",
    "    most_frequent = df[col].mode()[0]\n",
    "    df[col] = df[col].replace(\"unknown\", most_frequent)\n",
    "    return df\n",
    "\n",
    "for col in df.columns:\n",
    "    if df[col].dtype == \"object\":\n",
    "        df = fill_unknown(df, col)\n",
    "\n",
    "# 3. Encoding fitur kategori\n",
    "ordinal_features = [\"Driving_experience\", \"Service_year_of_vehicle\"]\n",
    "categorical_features = df.select_dtypes(include=[\"object\"]).columns.tolist()\n",
    "nominal_features = [col for col in categorical_features if col not in ordinal_features + [\"Accident_severity\"]]\n",
    "\n",
    "le = LabelEncoder()\n",
    "for col in ordinal_features:\n",
    "    df[col] = le.fit_transform(df[col])\n",
    "\n",
    "df = pd.get_dummies(df, columns=nominal_features, drop_first=True)\n",
    "df[\"Accident_severity\"] = le.fit_transform(df[\"Accident_severity\"])\n",
    "\n",
    "# 4. Memisahkan fitur dan target\n",
    "X = df.drop(columns=[\"Accident_severity\"])\n",
    "y = df[\"Accident_severity\"]\n",
    "\n",
    "# 5. Membagi data menjadi train-test\n",
    "X_train, X_test, y_train, y_test = train_test_split(X, y, test_size=0.2, random_state=42, stratify=y)\n",
    "\n",
    "# 6. Menangani ketidakseimbangan kelas\n",
    "smote = SMOTE(random_state=42)\n",
    "X_smote, y_smote = smote.fit_resample(X_train, y_train)\n",
    "\n",
    "smote_tomek = SMOTETomek(random_state=42)\n",
    "X_smote_tomek, y_smote_tomek = smote_tomek.fit_resample(X_train, y_train)\n",
    "\n"
   ]
  },
  {
   "cell_type": "code",
   "execution_count": null,
   "metadata": {},
   "outputs": [
    {
     "name": "stdout",
     "output_type": "stream",
     "text": [
      "F1-score Macro:\n",
      "SMOTE: 0.3447\n",
      "SMOTE-Tomek: 0.3485\n",
      "Class Weight: 0.3075\n"
     ]
    }
   ],
   "source": [
    "# from imblearn.over_sampling import SMOTE\n",
    "# from imblearn.combine import SMOTETomek\n",
    "# from sklearn.ensemble import RandomForestClassifier\n",
    "# from sklearn.model_selection import train_test_split\n",
    "# from sklearn.metrics import classification_report, f1_score\n",
    "\n",
    "# # Split data menjadi train-test\n",
    "# X_train, X_test, y_train, y_test = train_test_split(X, y, test_size=0.2, random_state=42, stratify=y)\n",
    "\n",
    "# # 1. Menggunakan SMOTE Biasa\n",
    "# smote = SMOTE(random_state=42)\n",
    "# X_smote, y_smote = smote.fit_resample(X_train, y_train)\n",
    "# rf_smote = RandomForestClassifier(random_state=42)\n",
    "# rf_smote.fit(X_smote, y_smote)\n",
    "# y_pred_smote = rf_smote.predict(X_test)\n",
    "\n",
    "# # 2. Menggunakan SMOTE-Tomek\n",
    "# smote_tomek = SMOTETomek(random_state=42)\n",
    "# X_smote_tomek, y_smote_tomek = smote_tomek.fit_resample(X_train, y_train)\n",
    "# rf_smote_tomek = RandomForestClassifier(random_state=42)\n",
    "# rf_smote_tomek.fit(X_smote_tomek, y_smote_tomek)\n",
    "# y_pred_smote_tomek = rf_smote_tomek.predict(X_test)\n",
    "\n",
    "# # 3. Menggunakan Class Weight\n",
    "# rf_weighted = RandomForestClassifier(class_weight='balanced', random_state=42)\n",
    "# rf_weighted.fit(X_train, y_train)\n",
    "# y_pred_weighted = rf_weighted.predict(X_test)\n",
    "\n",
    "# # Evaluasi dengan F1-score (macro)\n",
    "# f1_smote = f1_score(y_test, y_pred_smote, average='macro')\n",
    "# f1_smote_tomek = f1_score(y_test, y_pred_smote_tomek, average='macro')\n",
    "# f1_weighted = f1_score(y_test, y_pred_weighted, average='macro')\n",
    "\n",
    "# # Tampilkan hasil\n",
    "# print(\"F1-score Macro:\")\n",
    "# print(f\"SMOTE: {f1_smote:.4f}\")\n",
    "# print(f\"SMOTE-Tomek: {f1_smote_tomek:.4f}\")\n",
    "# print(f\"Class Weight: {f1_weighted:.4f}\")\n"
   ]
  },
  {
   "cell_type": "code",
   "execution_count": null,
   "metadata": {},
   "outputs": [],
   "source": []
  }
 ],
 "metadata": {
  "kernelspec": {
   "display_name": "Python 3",
   "language": "python",
   "name": "python3"
  },
  "language_info": {
   "codemirror_mode": {
    "name": "ipython",
    "version": 3
   },
   "file_extension": ".py",
   "mimetype": "text/x-python",
   "name": "python",
   "nbconvert_exporter": "python",
   "pygments_lexer": "ipython3",
   "version": "3.12.3"
  }
 },
 "nbformat": 4,
 "nbformat_minor": 2
}
